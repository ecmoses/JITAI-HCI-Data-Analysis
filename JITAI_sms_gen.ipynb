{
  "nbformat": 4,
  "nbformat_minor": 0,
  "metadata": {
    "colab": {
      "provenance": [],
      "gpuType": "T4",
      "authorship_tag": "ABX9TyPQIsaBtHbfLS83d0NIxEqm",
      "include_colab_link": true
    },
    "kernelspec": {
      "name": "python3",
      "display_name": "Python 3"
    },
    "language_info": {
      "name": "python"
    },
    "accelerator": "GPU"
  },
  "cells": [
    {
      "cell_type": "markdown",
      "metadata": {
        "id": "view-in-github",
        "colab_type": "text"
      },
      "source": [
        "<a href=\"https://colab.research.google.com/github/ecmoses/JITAI-HCI-Data-Analysis/blob/master/JITAI_sms_gen.ipynb\" target=\"_parent\"><img src=\"https://colab.research.google.com/assets/colab-badge.svg\" alt=\"Open In Colab\"/></a>"
      ]
    },
    {
      "cell_type": "code",
      "execution_count": 12,
      "metadata": {
        "colab": {
          "base_uri": "https://localhost:8080/"
        },
        "id": "ofiYUgzxS14E",
        "outputId": "3216749c-52d4-4f97-d41b-148abf6cf83a"
      },
      "outputs": [
        {
          "output_type": "stream",
          "name": "stdout",
          "text": [
            "Requirement already satisfied: transformers in /usr/local/lib/python3.10/dist-packages (4.33.2)\n",
            "Requirement already satisfied: filelock in /usr/local/lib/python3.10/dist-packages (from transformers) (3.12.2)\n",
            "Requirement already satisfied: huggingface-hub<1.0,>=0.15.1 in /usr/local/lib/python3.10/dist-packages (from transformers) (0.17.2)\n",
            "Requirement already satisfied: numpy>=1.17 in /usr/local/lib/python3.10/dist-packages (from transformers) (1.23.5)\n",
            "Requirement already satisfied: packaging>=20.0 in /usr/local/lib/python3.10/dist-packages (from transformers) (23.1)\n",
            "Requirement already satisfied: pyyaml>=5.1 in /usr/local/lib/python3.10/dist-packages (from transformers) (6.0.1)\n",
            "Requirement already satisfied: regex!=2019.12.17 in /usr/local/lib/python3.10/dist-packages (from transformers) (2023.6.3)\n",
            "Requirement already satisfied: requests in /usr/local/lib/python3.10/dist-packages (from transformers) (2.31.0)\n",
            "Requirement already satisfied: tokenizers!=0.11.3,<0.14,>=0.11.1 in /usr/local/lib/python3.10/dist-packages (from transformers) (0.13.3)\n",
            "Requirement already satisfied: safetensors>=0.3.1 in /usr/local/lib/python3.10/dist-packages (from transformers) (0.3.3)\n",
            "Requirement already satisfied: tqdm>=4.27 in /usr/local/lib/python3.10/dist-packages (from transformers) (4.66.1)\n",
            "Requirement already satisfied: fsspec in /usr/local/lib/python3.10/dist-packages (from huggingface-hub<1.0,>=0.15.1->transformers) (2023.6.0)\n",
            "Requirement already satisfied: typing-extensions>=3.7.4.3 in /usr/local/lib/python3.10/dist-packages (from huggingface-hub<1.0,>=0.15.1->transformers) (4.5.0)\n",
            "Requirement already satisfied: charset-normalizer<4,>=2 in /usr/local/lib/python3.10/dist-packages (from requests->transformers) (3.2.0)\n",
            "Requirement already satisfied: idna<4,>=2.5 in /usr/local/lib/python3.10/dist-packages (from requests->transformers) (3.4)\n",
            "Requirement already satisfied: urllib3<3,>=1.21.1 in /usr/local/lib/python3.10/dist-packages (from requests->transformers) (2.0.4)\n",
            "Requirement already satisfied: certifi>=2017.4.17 in /usr/local/lib/python3.10/dist-packages (from requests->transformers) (2023.7.22)\n"
          ]
        }
      ],
      "source": [
        "!pip install transformers"
      ]
    },
    {
      "cell_type": "markdown",
      "source": [
        "Pipeline approach"
      ],
      "metadata": {
        "id": "e2TYMaj8hWDv"
      }
    },
    {
      "cell_type": "code",
      "source": [
        "import torch\n",
        "from transformers import pipeline, set_seed\n",
        "generator = pipeline('text-generation', model='gpt2')\n",
        "set_seed(53)"
      ],
      "metadata": {
        "id": "U8tZ9lfAS-XN"
      },
      "execution_count": 14,
      "outputs": []
    },
    {
      "cell_type": "code",
      "source": [
        "device = 'cuda' if torch.cuda.is_available() else 'cpu'\n",
        "device"
      ],
      "metadata": {
        "colab": {
          "base_uri": "https://localhost:8080/",
          "height": 35
        },
        "id": "AxyWqgNwTMs5",
        "outputId": "7fd4e739-ec3b-4a6a-92ef-f91572cdca20"
      },
      "execution_count": 15,
      "outputs": [
        {
          "output_type": "execute_result",
          "data": {
            "text/plain": [
              "'cuda'"
            ],
            "application/vnd.google.colaboratory.intrinsic+json": {
              "type": "string"
            }
          },
          "metadata": {},
          "execution_count": 15
        }
      ]
    },
    {
      "cell_type": "code",
      "source": [
        "generator(\"You are just 5% over your goal for this meal.\", max_length=128, num_return_sequences=5)"
      ],
      "metadata": {
        "colab": {
          "base_uri": "https://localhost:8080/"
        },
        "id": "dnGlSRchXpXP",
        "outputId": "e000529f-efe5-4ace-d043-081a191a0aaf"
      },
      "execution_count": null,
      "outputs": [
        {
          "output_type": "stream",
          "name": "stderr",
          "text": [
            "Setting `pad_token_id` to `eos_token_id`:50256 for open-end generation.\n"
          ]
        },
        {
          "output_type": "execute_result",
          "data": {
            "text/plain": [
              "[{'generated_text': \"You are just 5% over your goal for this meal. Please forgive any delay or pain you might experience or how you might feel or feel because you should be able to spend as much time on this meal as you wanna with all your other activities! :)\\n\\nSo if you're a fan of my podcast, I hope you'll join me and my team to discuss new podcasts, cook-out recipes and even live-tasting new vegan recipes!\\n\\nI'm so excited to announce that my brand new vegan cookbook has officially opened up its doors for the first time and is out June\"},\n",
              " {'generated_text': 'You are just 5% over your goal for this meal. You really don\\'t get enough by making a good meal for one person. If you eat too much you\\'ll lose weight!\\n\\n\\nThis meal will go together exactly the way that your meal goes:\\n\\n\\nI have created this guide which will guide you through the best ways to get your food on the table over a long time period. My recipe for this meal is basically a \"5 x 4\" \"Mountain Cake\" and you can grab your meal by the end of November or December with a \"no need to eat\" sign'},\n",
              " {'generated_text': \"You are just 5% over your goal for this meal.\\n\\nIf your goal is to achieve at least 40% of your weight loss goals, follow this easy set of steps:\\n\\n1) Don't go overboard and cut calories.\\n\\nStep #2: Do your usual workout\\n\\nYour favorite way to kick your weight loss goals is to run. It actually works better than your typical workout because you get to spend less time exercising. While running, you'll burn less calories and burn fat even less with less energy. In other words, you'll burn less calories! While running\"},\n",
              " {'generated_text': 'You are just 5% over your goal for this meal. To make a $100 off meal, click here, add the cost of shipping, and choose your meal order number. It takes less than 20 seconds, so you can get the deal or not.\\n\\nMy other favorite option is the Whole30! I prefer their \"big four veggies\": cabbage, broccoli and kale…just because I know that they\\'re not as cheap as you might think.\\n\\nAnd of course if you don\\'t already have those vegetables in your grocery bag, click here to join in the excitement and purchase any'},\n",
              " {'generated_text': \"You are just 5% over your goal for this meal. I feel like I'm about 8%. Well, if 10% is less than your goals for this meal, then that's fine. I'm getting here.\\n\\nHere is the final meal I went through on my last day of work. It wasn't too bad in some ways, but it still was not good for me. (My girlfriend called me up every other day and we made excuses for her on the phone, just because you're only about 18 and I'm 26). I tried not to worry about the other side and\"}]"
            ]
          },
          "metadata": {},
          "execution_count": 35
        }
      ]
    },
    {
      "cell_type": "code",
      "source": [
        "from transformers import AutoTokenizer, AutoModelForCausalLM"
      ],
      "metadata": {
        "id": "eiRpUdsRe_5R"
      },
      "execution_count": 17,
      "outputs": []
    },
    {
      "cell_type": "code",
      "source": [
        "model_name = 'gpt2-large'\n",
        "max_length = 128\n",
        "tokenizer = AutoTokenizer.from_pretrained(model_name)"
      ],
      "metadata": {
        "id": "Bb_uQ7bdfWnS"
      },
      "execution_count": 24,
      "outputs": []
    },
    {
      "cell_type": "code",
      "source": [
        "model = AutoModelForCausalLM.from_pretrained(model_name).to(device)"
      ],
      "metadata": {
        "id": "eu03YH8QnM_D"
      },
      "execution_count": 19,
      "outputs": []
    },
    {
      "cell_type": "code",
      "source": [
        "input_text = \"You are 5% over your goal for this meal. You can hit your goal today by taking control over the rest of this meal. You can decide now to throw away what is left or package it for later.\"\n",
        "input_ids = tokenizer(input_text, return_tensors='pt')\n",
        "input_ids"
      ],
      "metadata": {
        "colab": {
          "base_uri": "https://localhost:8080/"
        },
        "id": "DSiKuAkagRhY",
        "outputId": "50aaa8a3-8443-42e7-ec41-9c6ccfefd83e"
      },
      "execution_count": 49,
      "outputs": [
        {
          "output_type": "execute_result",
          "data": {
            "text/plain": [
              "{'input_ids': tensor([[1639,  389,  642,    4,  625,  534, 3061,  329,  428, 9799,   13,  921,\n",
              "          460, 2277,  534, 3061, 1909,  416, 2263, 1630,  625,  262, 1334,  286,\n",
              "          428, 9799,   13,  921,  460, 5409,  783,  284, 3714, 1497,  644,  318,\n",
              "         1364,  393, 5301,  340,  329, 1568,   13]]), 'attention_mask': tensor([[1, 1, 1, 1, 1, 1, 1, 1, 1, 1, 1, 1, 1, 1, 1, 1, 1, 1, 1, 1, 1, 1, 1, 1,\n",
              "         1, 1, 1, 1, 1, 1, 1, 1, 1, 1, 1, 1, 1, 1, 1, 1, 1, 1, 1]])}"
            ]
          },
          "metadata": {},
          "execution_count": 49
        }
      ]
    },
    {
      "cell_type": "code",
      "source": [
        "input_ids = input_ids['input_ids'].to(device)"
      ],
      "metadata": {
        "id": "j4PMi-WwgwT7"
      },
      "execution_count": 50,
      "outputs": []
    },
    {
      "cell_type": "markdown",
      "source": [
        "# Beam Technique"
      ],
      "metadata": {
        "id": "g0qiPbx4hIsV"
      }
    },
    {
      "cell_type": "code",
      "source": [
        "output_beam = model.generate(input_ids, max_length=max_length, num_beams=5, do_sample=False, no_repeat_ngram_size=2)\n",
        "output_beam"
      ],
      "metadata": {
        "colab": {
          "base_uri": "https://localhost:8080/"
        },
        "id": "DciVoG71hKtG",
        "outputId": "3a4d47a5-5c8a-4ed8-c5e6-2ae023bbc2aa"
      },
      "execution_count": 51,
      "outputs": [
        {
          "output_type": "stream",
          "name": "stderr",
          "text": [
            "The attention mask and the pad token id were not set. As a consequence, you may observe unexpected behavior. Please pass your input's `attention_mask` to obtain reliable results.\n",
            "Setting `pad_token_id` to `eos_token_id`:50256 for open-end generation.\n"
          ]
        },
        {
          "output_type": "execute_result",
          "data": {
            "text/plain": [
              "tensor([[ 1639,   389,   642,     4,   625,   534,  3061,   329,   428,  9799,\n",
              "            13,   921,   460,  2277,   534,  3061,  1909,   416,  2263,  1630,\n",
              "           625,   262,  1334,   286,   428,  9799,    13,   921,   460,  5409,\n",
              "           783,   284,  3714,  1497,   644,   318,  1364,   393,  5301,   340,\n",
              "           329,  1568,    13,   198,   198,  1532,   345,   389,   407,  1654,\n",
              "           644,   284,   466,    11,  1265,   534,  6253,   393,  5496,   270,\n",
              "           666,   329,  1037,    13, 50256]], device='cuda:0')"
            ]
          },
          "metadata": {},
          "execution_count": 51
        }
      ]
    },
    {
      "cell_type": "code",
      "source": [
        "print(tokenizer.decode(output_beam[0]))"
      ],
      "metadata": {
        "colab": {
          "base_uri": "https://localhost:8080/"
        },
        "id": "0PQZtLF-iOP-",
        "outputId": "b12f0f64-e22e-469f-a249-fdf1180bd0d8"
      },
      "execution_count": 52,
      "outputs": [
        {
          "output_type": "stream",
          "name": "stdout",
          "text": [
            "You are 5% over your goal for this meal. You can hit your goal today by taking control over the rest of this meal. You can decide now to throw away what is left or package it for later.\n",
            "\n",
            "If you are not sure what to do, ask your doctor or dietitian for help.<|endoftext|>\n"
          ]
        }
      ]
    },
    {
      "cell_type": "markdown",
      "source": [
        "# Nucleus method"
      ],
      "metadata": {
        "id": "-Uj6YbAvorlv"
      }
    },
    {
      "cell_type": "code",
      "source": [
        "eos_token_id = 50256\n",
        "output_nucleus = model.generate(input_ids, max_length=max_length, pad_token_id=eos_token_id, do_sample=True, top_p=0.9)\n",
        "print(tokenizer.decode(output_nucleus[0]))"
      ],
      "metadata": {
        "colab": {
          "base_uri": "https://localhost:8080/"
        },
        "id": "9t_MIi3JouwL",
        "outputId": "6710078e-6515-416f-821d-b0463c77913e"
      },
      "execution_count": 53,
      "outputs": [
        {
          "output_type": "stream",
          "name": "stdout",
          "text": [
            "You are 5% over your goal for this meal. You can hit your goal today by taking control over the rest of this meal. You can decide now to throw away what is left or package it for later. Or you can focus on the next portion of the meal and make it bigger than this.\n",
            "\n",
            "How big is it?\n",
            "\n",
            "The main meal of the day should be at least 60% of the diet, at least 75% of your bodyweight, and at least 60% of your current caloric needs (the calories you eat in a day). If you get the calories from other meals, your goal should be to\n"
          ]
        }
      ]
    }
  ]
}